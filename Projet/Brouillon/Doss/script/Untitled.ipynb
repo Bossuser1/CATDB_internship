{
 "cells": [
  {
   "cell_type": "code",
   "execution_count": 7,
   "metadata": {},
   "outputs": [],
   "source": [
    "#!/usr/bin/env python\n",
    "# -*- coding: utf-8 -*-\n",
    "import psycopg2\n",
    "from config import config\n",
    "import psycopg2.extras \n",
    "\n",
    "def connect():\n",
    "    \"\"\" Connect to the PostgreSQL database server \"\"\"\n",
    "    conn = None\n",
    "    try:\n",
    "        # read connection parameters\n",
    "        params = config()\n",
    " \n",
    "        # connect to the PostgreSQL server\n",
    "        print('Connecting to the PostgreSQL database...')\n",
    "        conn = psycopg2.connect(**params)\n",
    " \n",
    "        # create a cursor\n",
    "        cur = conn.cursor()\n",
    "        \n",
    "        # execute a statement\n",
    "        print('PostgreSQL database version:')\n",
    "        cur.execute('SELECT version()')\n",
    " \n",
    "        # display the PostgreSQL database server version\n",
    "        db_version = cur.fetchone()\n",
    "        print(db_version)\n",
    "       \n",
    "     # close the communication with the PostgreSQL\n",
    "        cur.close()\n",
    "    except (Exception, psycopg2.DatabaseError) as error:\n",
    "        print(error)\n",
    "    finally:\n",
    "        if conn is not None:\n",
    "            conn.close()\n",
    "            print('Database connection closed.')\n",
    "def read_data_sql(requete):\n",
    "    \"input requete outupt data\"\n",
    "    \"\"\"\n",
    "    requete='select * from chips.experiment;'\n",
    "    \"\"\"\n",
    "    data=requete.replace(\"'\",\"\").replace(\";\",\"\").split()\n",
    "    if data[0]=='select' and requete[-1]==';':\n",
    "        conn = None\n",
    "        params = config()\n",
    "        conn = psycopg2.connect(**params)\n",
    "        cursor = conn.cursor(cursor_factory=psycopg2.extras.DictCursor)\n",
    "        cursor.execute(requete)\n",
    "        colnames = [desc[0] for desc in cursor.description]\n",
    "        memory = cursor.fetchall()\n",
    "        conn.close()\n",
    "    else:\n",
    "        print(\"Merci de verifier\")\n",
    "\n",
    "    return memory,colnames"
   ]
  },
  {
   "cell_type": "code",
   "execution_count": 8,
   "metadata": {},
   "outputs": [],
   "source": [
    "requete='select * from users;'\n",
    "memory,colnames=read_data_sql(requete)\n"
   ]
  },
  {
   "cell_type": "code",
   "execution_count": 9,
   "metadata": {},
   "outputs": [
    {
     "data": {
      "text/plain": [
       "[[1, 20, 'TRAORE', 'BASSIRO', 'test'],\n",
       " [2, 25, 'BASSIRO', 'TRAORE', 'test1'],\n",
       " [3, 35, 'OUREMI', 'TRAORE', 'test1'],\n",
       " [4, 45, 'BASS', 'TRAORE', 'test1'],\n",
       " [5, 55, 'RO_TRAORE', 'TRAORE', 'test1']]"
      ]
     },
     "execution_count": 9,
     "metadata": {},
     "output_type": "execute_result"
    }
   ],
   "source": [
    "memory"
   ]
  },
  {
   "cell_type": "code",
   "execution_count": 10,
   "metadata": {},
   "outputs": [
    {
     "data": {
      "text/plain": [
       "['id', 'age', 'first_name', 'last_name', 'email']"
      ]
     },
     "execution_count": 10,
     "metadata": {},
     "output_type": "execute_result"
    }
   ],
   "source": [
    "colnames"
   ]
  },
  {
   "cell_type": "code",
   "execution_count": null,
   "metadata": {},
   "outputs": [],
   "source": []
  }
 ],
 "metadata": {
  "kernelspec": {
   "display_name": "Python 3",
   "language": "python",
   "name": "python3"
  },
  "language_info": {
   "codemirror_mode": {
    "name": "ipython",
    "version": 3
   },
   "file_extension": ".py",
   "mimetype": "text/x-python",
   "name": "python",
   "nbconvert_exporter": "python",
   "pygments_lexer": "ipython3",
   "version": "3.6.8"
  }
 },
 "nbformat": 4,
 "nbformat_minor": 2
}
