{
 "cells": [
  {
   "cell_type": "code",
   "execution_count": 1,
   "metadata": {},
   "outputs": [],
   "source": [
    "#!/usr/bin/env python\n",
    "import os\n",
    "import sys"
   ]
  },
  {
   "cell_type": "code",
   "execution_count": 32,
   "metadata": {},
   "outputs": [],
   "source": [
    "### parametres\n",
    "my_ppty=\"CHIPS\"\n",
    "#my_stylepath=\"CHIPS::STYLECSS\";\n",
    "#my_catdblogo=\"CHIPS::CATDBLOGO\";\n",
    "#my_logopath=\"CHIPS::STYLEPATH\";\n",
    "#my_public=\"CHIPS::PUBLIC\"; \n",
    "#my_listmes=\"public\";            # par defaut public"
   ]
  },
  {
   "cell_type": "code",
   "execution_count": 31,
   "metadata": {},
   "outputs": [],
   "source": [
    "#####Explore  the 279 Arabidopsis projects in public access\n",
    "\n",
    "#--STATS de CATdb-----------------------------------------\n",
    "# requete sur la nouvelle table info_catdbindex\n",
    "my_reqinfo =\"Select info_code, info_value, info_name from \"+my_ppty+\".info_catdbindex order by info_code;\""
   ]
  },
  {
   "cell_type": "code",
   "execution_count": 25,
   "metadata": {},
   "outputs": [],
   "source": [
    "# creation/tri des infos :(creation de structures de données)\n",
    "###Todo"
   ]
  },
  {
   "cell_type": "code",
   "execution_count": 33,
   "metadata": {},
   "outputs": [],
   "source": [
    "# Bilan Chiffres nbr de puces par especes\n",
    "# pas Arabidopsis dans nouveau champ common_name d'array_type et \n",
    "# analysis_type='Arrays'\n",
    "# partie requete\n",
    "my_querySpecies=\"select array_type_name, count(hybridization_id) \"+\\\n",
    "\"from \"+my_ppty+\".hybridization \"+\\\n",
    "\"where project_id in (select project_id from \"+my_ppty+\".project where is_public='yes') \"+\\\n",
    "\"and experiment_id in (select experiment_id from \"+my_ppty+\".experiment \"+\\\n",
    "\"where analysis_type='Arrays') \"+\\\n",
    "\"and array_type_name in \"+\\\n",
    "\"(select a.array_type_name from \"+my_ppty+\".array_type a where a.common_name<>'Arabidopsis')\"+\\\n",
    "\"group by array_type_name order by array_type_name;\""
   ]
  },
  {
   "cell_type": "code",
   "execution_count": 34,
   "metadata": {},
   "outputs": [],
   "source": [
    "#Pour le nombre de ref biblio\n",
    "my_reqstat =\"Select count(*) from \"+my_ppty+\".biblio_list;\""
   ]
  },
  {
   "cell_type": "code",
   "execution_count": null,
   "metadata": {},
   "outputs": [],
   "source": []
  }
 ],
 "metadata": {
  "kernelspec": {
   "display_name": "Python 3",
   "language": "python",
   "name": "python3"
  },
  "language_info": {
   "codemirror_mode": {
    "name": "ipython",
    "version": 3
   },
   "file_extension": ".py",
   "mimetype": "text/x-python",
   "name": "python",
   "nbconvert_exporter": "python",
   "pygments_lexer": "ipython3",
   "version": "3.5.3"
  },
  "varInspector": {
   "cols": {
    "lenName": 16,
    "lenType": 16,
    "lenVar": 40
   },
   "kernels_config": {
    "python": {
     "delete_cmd_postfix": "",
     "delete_cmd_prefix": "del ",
     "library": "var_list.py",
     "varRefreshCmd": "print(var_dic_list())"
    },
    "r": {
     "delete_cmd_postfix": ") ",
     "delete_cmd_prefix": "rm(",
     "library": "var_list.r",
     "varRefreshCmd": "cat(var_dic_list()) "
    }
   },
   "position": {
    "height": "215.85px",
    "left": "1001px",
    "right": "44px",
    "top": "85px",
    "width": "341px"
   },
   "types_to_exclude": [
    "module",
    "function",
    "builtin_function_or_method",
    "instance",
    "_Feature"
   ],
   "window_display": false
  }
 },
 "nbformat": 4,
 "nbformat_minor": 2
}
