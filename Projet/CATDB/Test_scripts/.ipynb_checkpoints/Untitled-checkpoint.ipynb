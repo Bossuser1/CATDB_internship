{
 "cells": [
  {
   "cell_type": "code",
   "execution_count": 26,
   "metadata": {},
   "outputs": [
    {
     "data": {
      "text/plain": [
       "{'Tag1': 'select * from experiment;', 'Tag2': 'select * from experiment;'}"
      ]
     },
     "execution_count": 26,
     "metadata": {},
     "output_type": "execute_result"
    }
   ],
   "source": [
    "#!/usr/bin/env python\n",
    "# -*- coding: utf-8 -*-\n",
    "\n",
    "#lecture de requete\n",
    "\n",
    "def lecture_query_tage(file_query):\n",
    "    \"\"\"\n",
    "    function sert a lire les requetes prédefinir seulement\n",
    "    \"\"\"\n",
    "    query_tag=dict()\n",
    "    with open(file_query,\"r\") as fiche:\n",
    "        data=fiche.readlines()\n",
    "        for line in data:\n",
    "            if line[0]!=\"#\":\n",
    "                if line[0:9]==\"Tag_query\":\n",
    "                    _key=line[11:].replace('\\n','').replace('\"','')\n",
    "                elif line[0:5]==\"query\":\n",
    "                    query_tag[_key]=(line[6:].replace('\\n','').replace('\"',''))            \n",
    "    return query_tag\n",
    "lecture_query_tage(\"query_tag.ini\")"
   ]
  },
  {
   "cell_type": "code",
   "execution_count": null,
   "metadata": {},
   "outputs": [],
   "source": []
  },
  {
   "cell_type": "code",
   "execution_count": null,
   "metadata": {},
   "outputs": [],
   "source": []
  }
 ],
 "metadata": {
  "kernelspec": {
   "display_name": "Python 3",
   "language": "python",
   "name": "python3"
  },
  "language_info": {
   "codemirror_mode": {
    "name": "ipython",
    "version": 3
   },
   "file_extension": ".py",
   "mimetype": "text/x-python",
   "name": "python",
   "nbconvert_exporter": "python",
   "pygments_lexer": "ipython3",
   "version": "3.6.8"
  }
 },
 "nbformat": 4,
 "nbformat_minor": 2
}
