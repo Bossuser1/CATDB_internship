{
 "cells": [
  {
   "cell_type": "code",
   "execution_count": 10,
   "metadata": {},
   "outputs": [],
   "source": [
    "#!/usr/bin/env python\n",
    "# -*- coding: utf-8 -*-\n",
    "import psycopg2\n",
    "from config import config\n",
    "import psycopg2.extras \n",
    "\n",
    "def connect():\n",
    "    \"\"\" Connect to the PostgreSQL database server \"\"\"\n",
    "    conn = None\n",
    "    try:\n",
    "        # read connection parameters\n",
    "        params = config()\n",
    " \n",
    "        # connect to the PostgreSQL server\n",
    "        print('Connecting to the PostgreSQL database...')\n",
    "        conn = psycopg2.connect(**params)\n",
    " \n",
    "        # create a cursor\n",
    "        cur = conn.cursor()\n",
    "        \n",
    "        # execute a statement\n",
    "        print('PostgreSQL database version:')\n",
    "        cur.execute('SELECT version()')\n",
    " \n",
    "        # display the PostgreSQL database server version\n",
    "        db_version = cur.fetchone()\n",
    "        print(db_version)\n",
    "       \n",
    "     # close the communication with the PostgreSQL\n",
    "        cur.close()\n",
    "    except (Exception, psycopg2.DatabaseError) as error:\n",
    "        print(error)\n",
    "    finally:\n",
    "        if conn is not None:\n",
    "            conn.close()\n",
    "            print('Database connection closed.')\n"
   ]
  },
  {
   "cell_type": "code",
   "execution_count": 15,
   "metadata": {
    "scrolled": true
   },
   "outputs": [],
   "source": [
    "def read_data_sql(requete):\n",
    "    \"input requete outupt data\"\n",
    "    \"\"\"\n",
    "    requete='select * from chips.experiment;'\n",
    "    \"\"\"\n",
    "    data=requete.replace(\"'\",\"\").replace(\";\",\"\").split()\n",
    "    if data[0]=='select' and requete[-1]==';':\n",
    "        conn = None\n",
    "        params = config()\n",
    "        conn = psycopg2.connect(**params)\n",
    "        cursor = conn.cursor(cursor_factory=psycopg2.extras.DictCursor)\n",
    "        cursor.execute(requete)\n",
    "        colnames = [desc[0] for desc in cursor.description]\n",
    "        memory = cursor.fetchall()\n",
    "        conn.close()\n",
    "    else:\n",
    "        print(\"Merci de verifier\")\n",
    "\n",
    "    return memory,colnames"
   ]
  },
  {
   "cell_type": "code",
   "execution_count": 16,
   "metadata": {},
   "outputs": [],
   "source": [
    "if __name__ == '__main__':\n",
    "    #connect()\n",
    "    requete='select * from chips.experiment;'\n",
    "    memory,colnames=read_data_sql(requete)\n",
    "    requete=\"select o.organism_name,count(distinct ss.project_id) from chips.sample_source ss,chips.organism o where ss.project_id in( select project_id from chips.project where is_public='yes') and ss.organism_id=o.organism_id group by o.organism_name;\"\n",
    "    memory,colnames=read_data_sql(requete)\n",
    "    memory"
   ]
  },
  {
   "cell_type": "code",
   "execution_count": 17,
   "metadata": {
    "scrolled": true
   },
   "outputs": [
    {
     "data": {
      "text/plain": [
       "[['Aegilops tauschii', 1], ['Arabidopsis thaliana', 53], ['Brassica napus', 2]]"
      ]
     },
     "execution_count": 17,
     "metadata": {},
     "output_type": "execute_result"
    }
   ],
   "source": [
    "#colnames\n",
    "memory"
   ]
  },
  {
   "cell_type": "markdown",
   "metadata": {},
   "source": [
    "### Test exemple"
   ]
  },
  {
   "cell_type": "code",
   "execution_count": 18,
   "metadata": {},
   "outputs": [
    {
     "data": {
      "text/plain": [
       "[['CATDB_REL', Decimal('0'), 'CATDB_REL'],\n",
       " ['array_1', Decimal('146'), 'CATMA_2'],\n",
       " ['array_2', Decimal('348'), 'CATMA_2.1'],\n",
       " ['array_3', Decimal('1241'), 'CATMA_2.2'],\n",
       " ['array_4', Decimal('636'), 'CATMA_2.3'],\n",
       " ['array_5', Decimal('1067'), 'CATMA_5'],\n",
       " ['info_1', Decimal('167'), 'projet_public_CATMA'],\n",
       " ['info_2', Decimal('3438'), 'hybrid_public_CATMA'],\n",
       " ['info_3', Decimal('288'), 'total_projects'],\n",
       " ['info_4', Decimal('6134'), 'total_hybridizations'],\n",
       " ['info_5', Decimal('14'), 'projet_public_AFFY'],\n",
       " ['info_6', Decimal('126'), 'hybrid_public_AFFY'],\n",
       " ['nbgene_1', Decimal('22486'), 'CATMA_2'],\n",
       " ['nbgene_2', Decimal('22679'), 'CATMA_2.1'],\n",
       " ['nbgene_3', Decimal('22702'), 'CATMA_2.2'],\n",
       " ['nbgene_4', Decimal('23001'), 'CATMA_2.3'],\n",
       " ['nbgene_5', Decimal('28230'), 'CATMA_5']]"
      ]
     },
     "execution_count": 18,
     "metadata": {},
     "output_type": "execute_result"
    }
   ],
   "source": [
    "memory,colnames=read_data_sql(\"select info_code, info_value, info_name from chips.info_catdbindex order by info_code;\")\n",
    "memory\n"
   ]
  },
  {
   "cell_type": "code",
   "execution_count": 9,
   "metadata": {},
   "outputs": [
    {
     "data": {
      "text/plain": [
       "['info_code', 'info_value', 'info_name']"
      ]
     },
     "execution_count": 9,
     "metadata": {},
     "output_type": "execute_result"
    }
   ],
   "source": [
    "colnames"
   ]
  },
  {
   "cell_type": "code",
   "execution_count": null,
   "metadata": {},
   "outputs": [],
   "source": []
  }
 ],
 "metadata": {
  "kernelspec": {
   "display_name": "Python 2",
   "language": "python",
   "name": "python2"
  },
  "language_info": {
   "codemirror_mode": {
    "name": "ipython",
    "version": 3
   },
   "file_extension": ".py",
   "mimetype": "text/x-python",
   "name": "python",
   "nbconvert_exporter": "python",
   "pygments_lexer": "ipython3",
   "version": "3.4.9"
  }
 },
 "nbformat": 4,
 "nbformat_minor": 2
}
