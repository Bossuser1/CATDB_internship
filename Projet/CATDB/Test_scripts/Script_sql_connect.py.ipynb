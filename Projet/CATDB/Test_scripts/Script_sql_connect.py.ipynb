{
 "cells": [
  {
   "cell_type": "code",
   "execution_count": 1,
   "metadata": {},
   "outputs": [
    {
     "name": "stdout",
     "output_type": "stream",
     "text": [
      "Connecting to the PostgreSQL database...\n",
      "PostgreSQL database version:\n",
      "('PostgreSQL 10.6 (Ubuntu 10.6-0ubuntu0.18.04.1) on x86_64-pc-linux-gnu, compiled by gcc (Ubuntu 7.3.0-16ubuntu3) 7.3.0, 64-bit',)\n",
      "Database connection closed.\n"
     ]
    }
   ],
   "source": [
    "#!/usr/bin/env python\n",
    "# -*- coding: utf-8 -*-\n",
    "import psycopg2\n",
    "from config import config\n",
    "import psycopg2.extras \n",
    "\n",
    "def connect():\n",
    "    \"\"\" Connect to the PostgreSQL database server \"\"\"\n",
    "    conn = None\n",
    "    try:\n",
    "        # read connection parameters\n",
    "        params = config()\n",
    " \n",
    "        # connect to the PostgreSQL server\n",
    "        print('Connecting to the PostgreSQL database...')\n",
    "        conn = psycopg2.connect(**params)\n",
    " \n",
    "        # create a cursor\n",
    "        cur = conn.cursor()\n",
    "        \n",
    "        # execute a statement\n",
    "        print('PostgreSQL database version:')\n",
    "        cur.execute('SELECT version()')\n",
    " \n",
    "        # display the PostgreSQL database server version\n",
    "        db_version = cur.fetchone()\n",
    "        print(db_version)\n",
    "       \n",
    "     # close the communication with the PostgreSQL\n",
    "        cur.close()\n",
    "    except (Exception, psycopg2.DatabaseError) as error:\n",
    "        print(error)\n",
    "    finally:\n",
    "        if conn is not None:\n",
    "            conn.close()\n",
    "            print('Database connection closed.')\n",
    "connect()"
   ]
  },
  {
   "cell_type": "code",
   "execution_count": 7,
   "metadata": {},
   "outputs": [
    {
     "data": {
      "text/plain": [
       "[[554,\n",
       "  'P378E554',\n",
       "  '12PLEX_PEA_2013_03_ROOTS',\n",
       "  'treated vs untreated comparison',\n",
       "  'drought,time,tissue type',\n",
       "  'Pea plants (genotype Cameor) were subjected to a moderate water stress at the growth cycle for a period of 15 days and were rewatered during 7 days. Samples were collected from Well Watered (WW) plants  and from Water-Stressed (WS)  at the end of the drought period (point S) and after 7 days of rewatering (point R). Samples named roots consisted of the roots without nodules. Samples named nod consisted of nodules detached from the roots. Each sample consited of a mix of 18 individual plants and 4 repetitions per condition were carried out.',\n",
       "  'NimbleGen',\n",
       "  0,\n",
       "  378,\n",
       "  238,\n",
       "  datetime.date(2014, 7, 29),\n",
       "  'GEO',\n",
       "  'None',\n",
       "  'Arrays'],\n",
       " [553,\n",
       "  'P377E553',\n",
       "  'Identification of the miss-regulated genes in mkk3 under ABA treatment.',\n",
       "  'gene knock out,treated vs untreated comparison',\n",
       "  ' compound',\n",
       "  'Voir entente préalable du projet.',\n",
       "  'Agilent',\n",
       "  0,\n",
       "  377,\n",
       "  335,\n",
       "  datetime.date(2014, 6, 13),\n",
       "  'GEO',\n",
       "  'GSE59155',\n",
       "  'Arrays']]"
      ]
     },
     "execution_count": 7,
     "metadata": {},
     "output_type": "execute_result"
    }
   ],
   "source": [
    "requete='select * from experiment limit 2;'\n",
    "params = config()\n",
    "conn = psycopg2.connect(**params)\n",
    "cursor = conn.cursor(cursor_factory=psycopg2.extras.DictCursor)\n",
    "cur=cursor.execute(requete)\n",
    "memory=cursor.fetchall()\n",
    "conn.close()\n",
    "memory"
   ]
  },
  {
   "cell_type": "code",
   "execution_count": 6,
   "metadata": {
    "scrolled": true
   },
   "outputs": [],
   "source": [
    "#class ColInfo:\n",
    "#    def _init_(self):\n",
    "#        self.COLUMN_NAME=\"\"\n",
    "#        self.IS_NULLABLE=False\n",
    "#        self.IS_AUTO_INCRIMENT=False\n",
    "#        self.DATA_TYPE=\"\"\n",
    "#        self.CHARACTER_MAXIMUM_LENGTH=0\n",
    "#        self.IS_PRIMARY_KEY=False\n",
    "#        self.MS_DESCRIPTION=\"\"\n",
    "#    @classmethod\n",
    "#    def get_nb(DATA_TYPE):\n",
    "#return DATA_TYPE.nb"
   ]
  },
  {
   "cell_type": "code",
   "execution_count": null,
   "metadata": {},
   "outputs": [],
   "source": []
  },
  {
   "cell_type": "code",
   "execution_count": 12,
   "metadata": {},
   "outputs": [
    {
     "ename": "OperationalError",
     "evalue": "FATAL:  no pg_hba.conf entry for host \"89.95.200.141\", user \"uselect\", database \"CATDB\", SSL off\n",
     "output_type": "error",
     "traceback": [
      "\u001b[0;31m---------------------------------------------------------------------------\u001b[0m",
      "\u001b[0;31mOperationalError\u001b[0m                          Traceback (most recent call last)",
      "\u001b[0;32m<ipython-input-12-0c10f04eda4b>\u001b[0m in \u001b[0;36m<module>\u001b[0;34m()\u001b[0m\n\u001b[1;32m      2\u001b[0m     \u001b[0;31m#connect()\u001b[0m\u001b[0;34m\u001b[0m\u001b[0;34m\u001b[0m\u001b[0;34m\u001b[0m\u001b[0m\n\u001b[1;32m      3\u001b[0m     \u001b[0mrequete\u001b[0m\u001b[0;34m=\u001b[0m\u001b[0;34m'select * from chips.experiment;'\u001b[0m\u001b[0;34m\u001b[0m\u001b[0;34m\u001b[0m\u001b[0m\n\u001b[0;32m----> 4\u001b[0;31m     \u001b[0mmemory\u001b[0m\u001b[0;34m,\u001b[0m\u001b[0mcolnames\u001b[0m\u001b[0;34m=\u001b[0m\u001b[0mread_data_sql\u001b[0m\u001b[0;34m(\u001b[0m\u001b[0mrequete\u001b[0m\u001b[0;34m)\u001b[0m\u001b[0;34m\u001b[0m\u001b[0;34m\u001b[0m\u001b[0m\n\u001b[0m\u001b[1;32m      5\u001b[0m     \u001b[0;31m#requete=\"select o.organism_name,count(distinct ss.project_id) from chips.sample_source ss,chips.organism o where ss.project_id in( select project_id from chips.project where is_public='yes') and ss.organism_id=o.organism_id group by o.organism_name;\"\u001b[0m\u001b[0;34m\u001b[0m\u001b[0;34m\u001b[0m\u001b[0;34m\u001b[0m\u001b[0m\n\u001b[1;32m      6\u001b[0m     \u001b[0;31m#memory,colnames=read_data_sql(requete)\u001b[0m\u001b[0;34m\u001b[0m\u001b[0;34m\u001b[0m\u001b[0;34m\u001b[0m\u001b[0m\n",
      "\u001b[0;32m<ipython-input-11-a087887f0d2a>\u001b[0m in \u001b[0;36mread_data_sql\u001b[0;34m(requete)\u001b[0m\n\u001b[1;32m      8\u001b[0m         \u001b[0mconn\u001b[0m \u001b[0;34m=\u001b[0m \u001b[0;32mNone\u001b[0m\u001b[0;34m\u001b[0m\u001b[0;34m\u001b[0m\u001b[0m\n\u001b[1;32m      9\u001b[0m         \u001b[0mparams\u001b[0m \u001b[0;34m=\u001b[0m \u001b[0mconfig\u001b[0m\u001b[0;34m(\u001b[0m\u001b[0;34m)\u001b[0m\u001b[0;34m\u001b[0m\u001b[0;34m\u001b[0m\u001b[0m\n\u001b[0;32m---> 10\u001b[0;31m         \u001b[0mconn\u001b[0m \u001b[0;34m=\u001b[0m \u001b[0mpsycopg2\u001b[0m\u001b[0;34m.\u001b[0m\u001b[0mconnect\u001b[0m\u001b[0;34m(\u001b[0m\u001b[0;34m**\u001b[0m\u001b[0mparams\u001b[0m\u001b[0;34m)\u001b[0m\u001b[0;34m\u001b[0m\u001b[0;34m\u001b[0m\u001b[0m\n\u001b[0m\u001b[1;32m     11\u001b[0m         \u001b[0mcursor\u001b[0m \u001b[0;34m=\u001b[0m \u001b[0mconn\u001b[0m\u001b[0;34m.\u001b[0m\u001b[0mcursor\u001b[0m\u001b[0;34m(\u001b[0m\u001b[0mcursor_factory\u001b[0m\u001b[0;34m=\u001b[0m\u001b[0mpsycopg2\u001b[0m\u001b[0;34m.\u001b[0m\u001b[0mextras\u001b[0m\u001b[0;34m.\u001b[0m\u001b[0mDictCursor\u001b[0m\u001b[0;34m)\u001b[0m\u001b[0;34m\u001b[0m\u001b[0;34m\u001b[0m\u001b[0m\n\u001b[1;32m     12\u001b[0m         \u001b[0mcursor\u001b[0m\u001b[0;34m.\u001b[0m\u001b[0mexecute\u001b[0m\u001b[0;34m(\u001b[0m\u001b[0mrequete\u001b[0m\u001b[0;34m)\u001b[0m\u001b[0;34m\u001b[0m\u001b[0;34m\u001b[0m\u001b[0m\n",
      "\u001b[0;32m~/anaconda3/lib/python3.6/site-packages/psycopg2/__init__.py\u001b[0m in \u001b[0;36mconnect\u001b[0;34m(dsn, connection_factory, cursor_factory, **kwargs)\u001b[0m\n\u001b[1;32m    128\u001b[0m \u001b[0;34m\u001b[0m\u001b[0m\n\u001b[1;32m    129\u001b[0m     \u001b[0mdsn\u001b[0m \u001b[0;34m=\u001b[0m \u001b[0m_ext\u001b[0m\u001b[0;34m.\u001b[0m\u001b[0mmake_dsn\u001b[0m\u001b[0;34m(\u001b[0m\u001b[0mdsn\u001b[0m\u001b[0;34m,\u001b[0m \u001b[0;34m**\u001b[0m\u001b[0mkwargs\u001b[0m\u001b[0;34m)\u001b[0m\u001b[0;34m\u001b[0m\u001b[0;34m\u001b[0m\u001b[0m\n\u001b[0;32m--> 130\u001b[0;31m     \u001b[0mconn\u001b[0m \u001b[0;34m=\u001b[0m \u001b[0m_connect\u001b[0m\u001b[0;34m(\u001b[0m\u001b[0mdsn\u001b[0m\u001b[0;34m,\u001b[0m \u001b[0mconnection_factory\u001b[0m\u001b[0;34m=\u001b[0m\u001b[0mconnection_factory\u001b[0m\u001b[0;34m,\u001b[0m \u001b[0;34m**\u001b[0m\u001b[0mkwasync\u001b[0m\u001b[0;34m)\u001b[0m\u001b[0;34m\u001b[0m\u001b[0;34m\u001b[0m\u001b[0m\n\u001b[0m\u001b[1;32m    131\u001b[0m     \u001b[0;32mif\u001b[0m \u001b[0mcursor_factory\u001b[0m \u001b[0;32mis\u001b[0m \u001b[0;32mnot\u001b[0m \u001b[0;32mNone\u001b[0m\u001b[0;34m:\u001b[0m\u001b[0;34m\u001b[0m\u001b[0;34m\u001b[0m\u001b[0m\n\u001b[1;32m    132\u001b[0m         \u001b[0mconn\u001b[0m\u001b[0;34m.\u001b[0m\u001b[0mcursor_factory\u001b[0m \u001b[0;34m=\u001b[0m \u001b[0mcursor_factory\u001b[0m\u001b[0;34m\u001b[0m\u001b[0;34m\u001b[0m\u001b[0m\n",
      "\u001b[0;31mOperationalError\u001b[0m: FATAL:  no pg_hba.conf entry for host \"89.95.200.141\", user \"uselect\", database \"CATDB\", SSL off\n"
     ]
    }
   ],
   "source": [
    "def read_data_sql(requete):\n",
    "    \"input requete outupt data\"\n",
    "    \"\"\"\n",
    "    requete='select * from chips.experiment;'\n",
    "    \"\"\"\n",
    "    data=requete.replace(\"'\",\"\").replace(\";\",\"\").split()\n",
    "    if data[0]=='select' and requete[-1]==';':\n",
    "        conn = None\n",
    "        params = config()\n",
    "        conn = psycopg2.connect(**params)\n",
    "        cursor = conn.cursor(cursor_factory=psycopg2.extras.DictCursor)\n",
    "        cursor.execute(requete)\n",
    "        colnames = [desc[0] for desc in cursor.description]\n",
    "        memory = cursor.fetchall()\n",
    "        conn.close()\n",
    "    else:\n",
    "        print(\"Merci de verifier\")\n",
    "    return memory,colnames\n",
    "\n",
    "if __name__ == '__main__':\n",
    "    #connect()\n",
    "    requete='select * from chips.experiment;'\n",
    "    memory,colnames=read_data_sql(requete)\n",
    "    #requete=\"select o.organism_name,count(distinct ss.project_id) from chips.sample_source ss,chips.organism o where ss.project_id in( select project_id from chips.project where is_public='yes') and ss.organism_id=o.organism_id group by o.organism_name;\"\n",
    "    #memory,colnames=read_data_sql(requete)\n",
    "    memory"
   ]
  },
  {
   "cell_type": "code",
   "execution_count": 6,
   "metadata": {
    "scrolled": true
   },
   "outputs": [
    {
     "ename": "NameError",
     "evalue": "name 'memory' is not defined",
     "output_type": "error",
     "traceback": [
      "\u001b[0;31m---------------------------------------------------------------------------\u001b[0m",
      "\u001b[0;31mNameError\u001b[0m                                 Traceback (most recent call last)",
      "\u001b[0;32m<ipython-input-6-31ae0422faf1>\u001b[0m in \u001b[0;36m<module>\u001b[0;34m()\u001b[0m\n\u001b[1;32m      1\u001b[0m \u001b[0;31m#colnames\u001b[0m\u001b[0;34m\u001b[0m\u001b[0;34m\u001b[0m\u001b[0;34m\u001b[0m\u001b[0m\n\u001b[0;32m----> 2\u001b[0;31m \u001b[0mmemory\u001b[0m\u001b[0;34m\u001b[0m\u001b[0;34m\u001b[0m\u001b[0m\n\u001b[0m",
      "\u001b[0;31mNameError\u001b[0m: name 'memory' is not defined"
     ]
    }
   ],
   "source": [
    "#colnames\n",
    "memory"
   ]
  },
  {
   "cell_type": "markdown",
   "metadata": {},
   "source": [
    "### Test exemple"
   ]
  },
  {
   "cell_type": "code",
   "execution_count": 18,
   "metadata": {},
   "outputs": [
    {
     "data": {
      "text/plain": [
       "[['CATDB_REL', Decimal('0'), 'CATDB_REL'],\n",
       " ['array_1', Decimal('146'), 'CATMA_2'],\n",
       " ['array_2', Decimal('348'), 'CATMA_2.1'],\n",
       " ['array_3', Decimal('1241'), 'CATMA_2.2'],\n",
       " ['array_4', Decimal('636'), 'CATMA_2.3'],\n",
       " ['array_5', Decimal('1067'), 'CATMA_5'],\n",
       " ['info_1', Decimal('167'), 'projet_public_CATMA'],\n",
       " ['info_2', Decimal('3438'), 'hybrid_public_CATMA'],\n",
       " ['info_3', Decimal('288'), 'total_projects'],\n",
       " ['info_4', Decimal('6134'), 'total_hybridizations'],\n",
       " ['info_5', Decimal('14'), 'projet_public_AFFY'],\n",
       " ['info_6', Decimal('126'), 'hybrid_public_AFFY'],\n",
       " ['nbgene_1', Decimal('22486'), 'CATMA_2'],\n",
       " ['nbgene_2', Decimal('22679'), 'CATMA_2.1'],\n",
       " ['nbgene_3', Decimal('22702'), 'CATMA_2.2'],\n",
       " ['nbgene_4', Decimal('23001'), 'CATMA_2.3'],\n",
       " ['nbgene_5', Decimal('28230'), 'CATMA_5']]"
      ]
     },
     "execution_count": 18,
     "metadata": {},
     "output_type": "execute_result"
    }
   ],
   "source": [
    "memory,colnames=read_data_sql(\"select info_code, info_value, info_name from chips.info_catdbindex order by info_code;\")\n",
    "memory\n"
   ]
  },
  {
   "cell_type": "code",
   "execution_count": 9,
   "metadata": {},
   "outputs": [
    {
     "data": {
      "text/plain": [
       "['info_code', 'info_value', 'info_name']"
      ]
     },
     "execution_count": 9,
     "metadata": {},
     "output_type": "execute_result"
    }
   ],
   "source": [
    "colnames"
   ]
  },
  {
   "cell_type": "code",
   "execution_count": null,
   "metadata": {},
   "outputs": [],
   "source": []
  }
 ],
 "metadata": {
  "kernelspec": {
   "display_name": "Python 3",
   "language": "python",
   "name": "python3"
  },
  "language_info": {
   "codemirror_mode": {
    "name": "ipython",
    "version": 3
   },
   "file_extension": ".py",
   "mimetype": "text/x-python",
   "name": "python",
   "nbconvert_exporter": "python",
   "pygments_lexer": "ipython3",
   "version": "3.6.8"
  }
 },
 "nbformat": 4,
 "nbformat_minor": 2
}
